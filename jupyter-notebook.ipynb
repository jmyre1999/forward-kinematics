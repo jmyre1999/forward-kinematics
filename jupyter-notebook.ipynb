{
 "cells": [
  {
   "cell_type": "code",
   "execution_count": 145,
   "metadata": {},
   "outputs": [
    {
     "data": {
      "text/html": [
       "<div id=\"glowscript\" class=\"glowscript\"></div>"
      ],
      "text/plain": [
       "<IPython.core.display.HTML object>"
      ]
     },
     "metadata": {},
     "output_type": "display_data"
    },
    {
     "data": {
      "application/javascript": [
       "if (typeof Jupyter !== \"undefined\") { window.__context = { glowscript_container: $(\"#glowscript\").removeAttr(\"id\")};}else{ element.textContent = ' ';}"
      ],
      "text/plain": [
       "<IPython.core.display.Javascript object>"
      ]
     },
     "metadata": {},
     "output_type": "display_data"
    }
   ],
   "source": [
    "from vpython import *\n",
    "import numpy as np\n",
    "\n",
    "LEN_P1 = 10\n",
    "LEN_P2 = 6\n",
    "LEN_P3 = 6\n",
    "\n",
    "BASE_X = 8\n",
    "BASE_Y = 5\n",
    "BASE_Z = 4\n",
    "\n",
    "PHI_1 = np.pi/8\n",
    "PHI_2 = np.pi/4\n",
    "PHI_3 = np.pi/12\n",
    "\n",
    "\n",
    "def main():\n",
    "\t# Initial Setup\n",
    "\tscene = canvas(background=vector(0,0.1,0.1))\n",
    "\t# Floor\n",
    "\tbox(pos=vector(BASE_X,-0.5,BASE_Z), height=0.5, width=40, length=40, color=vector(0.6,0.5,0.5))\n",
    "\t# Axis\n",
    "\tarrow(pos=vector(BASE_X,0,BASE_Z), axis=vector(20,0,0), color=color.red, shaftwidth=0.2)\n",
    "\tarrow(pos=vector(BASE_X,0,BASE_Z), axis=vector(0,20,0), color=color.green, shaftwidth=0.2)\n",
    "\tarrow(pos=vector(BASE_X,0,BASE_Z), axis=vector(0,0,20), color=color.blue, shaftwidth=0.2)\n",
    "\t# Base (Part 1)\n",
    "\tbox(pos=vector(BASE_X,2,BASE_Z), height=5, width=3, length=3, color=vector(0.5,0.5,0.5))\n",
    "\t# Joint 1\n",
    "\tsphere(pos=vector(BASE_X,BASE_Y,BASE_Z), radius=0.75)\n",
    "\n",
    "\t# Build cordinate frame matricies\n",
    "\tT_01 = np.array([\n",
    "\t\t\t\t\t[np.cos(PHI_1), np.sin(PHI_1), BASE_X], \n",
    "\t\t\t\t\t[-np.sin(PHI_1), np.cos(PHI_1), BASE_Z], \n",
    "\t\t\t\t\t[0, 0, 1]\n",
    "\t\t\t\t\t])\n",
    "\n",
    "\tT_12 = np.array([\n",
    "\t\t\t\t\t[np.cos(PHI_2), np.sin(PHI_2), 0], \n",
    "\t\t\t\t\t[-np.sin(PHI_2), np.cos(PHI_2), LEN_P1], \n",
    "\t\t\t\t\t[0,0,1]\n",
    "\t\t\t\t\t])\n",
    "\n",
    "\tT_23 = np.array([\n",
    "\t\t\t\t\t[np.cos(PHI_3), np.sin(PHI_3), 0], \n",
    "\t\t\t\t\t[-np.sin(PHI_3), np.cos(PHI_3), LEN_P2], \n",
    "\t\t\t\t\t[0,0,1]\n",
    "\t\t\t\t\t])\n",
    "\n",
    "\tT_34 = np.array([\n",
    "\t\t\t\t\t[np.cos(0), np.sin(0), 0], \n",
    "\t\t\t\t\t[-np.sin(0), np.cos(0), LEN_P3], \n",
    "\t\t\t\t\t[0,0,1]\n",
    "\t\t\t\t\t])\n",
    "\n",
    "\tT_02 = np.matmul(T_01, T_12)\n",
    "\n",
    "\tT_03 = np.matmul(T_02, T_23)\n",
    "\n",
    "\tT_04 = np.matmul(T_03, T_34)\n",
    "\n",
    "\t# (x,y) 2\n",
    "\tprev_x = BASE_X\n",
    "\tprev_y = BASE_Y\n",
    "\tx = T_02.item(0,2)\n",
    "\ty = T_02.item(1,2)\n",
    "\n",
    "\t# Part 2\n",
    "\tcylinder(pos=vector(BASE_X,BASE_Y,4), radius=0.5, axis=vector(x-prev_x,y-prev_y,0), color=vector(0.5,0.5,0.5))\n",
    "\n",
    "\t# Joint 2\n",
    "\tsphere(pos=vector(x,y,BASE_Z), radius=0.75)\n",
    "\n",
    "\t# (x,y) 3\n",
    "\tprev_x = x\n",
    "\tprev_y = y\n",
    "\tx = T_03.item(0,2)\n",
    "\ty = T_03.item(1,2)\n",
    "\n",
    "\t# Part 3\n",
    "\tcylinder(pos=vector(prev_x,prev_y,4), radius=0.5, axis=vector(x-prev_x,y-prev_y,0), color=vector(0.5,0.5,0.5))\n",
    "\n",
    "\t# Joint 3\n",
    "\tsphere(pos=vector(x,y,BASE_Z), radius=0.75)\n",
    "\n",
    "\t# (x,y) 4\n",
    "\tprev_x = x\n",
    "\tprev_y = y\n",
    "\tx = T_04.item(0,2)\n",
    "\ty = T_04.item(1,2)\n",
    "\n",
    "\t# Part 4\n",
    "\tcylinder(pos=vector(prev_x,prev_y,4), radius=0.5, axis=vector(x-prev_x,y-prev_y,0), color=vector(0.5,0.5,0.5))\n",
    "\n",
    "\t# End Effector\n",
    "\tsphere(pos=vector(x,y,BASE_Z), radius=0.35, color=color.black)\n",
    "\n",
    "\treturn\n",
    "\n",
    "main()"
   ]
  },
  {
   "cell_type": "code",
   "execution_count": null,
   "metadata": {},
   "outputs": [],
   "source": []
  }
 ],
 "metadata": {
  "kernelspec": {
   "display_name": "Python 3",
   "language": "python",
   "name": "python3"
  },
  "language_info": {
   "codemirror_mode": {
    "name": "ipython",
    "version": 3
   },
   "file_extension": ".py",
   "mimetype": "text/x-python",
   "name": "python",
   "nbconvert_exporter": "python",
   "pygments_lexer": "ipython3",
   "version": "3.8.8"
  }
 },
 "nbformat": 4,
 "nbformat_minor": 4
}
